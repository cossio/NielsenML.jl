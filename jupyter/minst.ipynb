{
 "cells": [
  {
   "cell_type": "code",
   "execution_count": 2,
   "metadata": {},
   "outputs": [],
   "source": [
    "using NielsenML\n",
    "#using Revise"
   ]
  },
  {
   "cell_type": "code",
   "execution_count": 4,
   "metadata": {},
   "outputs": [
    {
     "data": {
      "text/plain": [
       "50000"
      ]
     },
     "execution_count": 4,
     "metadata": {},
     "output_type": "execute_result"
    }
   ],
   "source": [
    "length(traindata)"
   ]
  },
  {
   "cell_type": "code",
   "execution_count": 3,
   "metadata": {},
   "outputs": [],
   "source": [
    "traindata, testsdata, validdata = NielsenML.load_minst(\"/home/cossio/work/2016/learn-neural-nets/nielsen/neural-networks-and-deep-learning-master/data\");"
   ]
  },
  {
   "cell_type": "code",
   "execution_count": null,
   "metadata": {},
   "outputs": [],
   "source": [
    "network = NielsenML.Network((784, 30, 10));"
   ]
  },
  {
   "cell_type": "code",
   "execution_count": 6,
   "metadata": {},
   "outputs": [
    {
     "name": "stdout",
     "output_type": "stream",
     "text": [
      "Epoch 1: 8172 / 10000\n",
      "Epoch 2: 9058 / 10000\n",
      "Epoch 3: 9318 / 10000\n",
      "Epoch 4: 9268 / 10000\n",
      "Epoch 5: 9344 / 10000\n",
      "Epoch 6: 9380 / 10000\n",
      "Epoch 7: 9387 / 10000\n",
      "Epoch 8: 9427 / 10000\n",
      "Epoch 9: 9421 / 10000\n",
      "Epoch 10: 9456 / 10000\n",
      "Epoch 11: 9454 / 10000\n",
      "Epoch 12: 9440 / 10000\n",
      "Epoch 13: 9440 / 10000\n",
      "Epoch 14: 9448 / 10000\n",
      "Epoch 15: 9473 / 10000\n",
      "Epoch 16: 9475 / 10000\n",
      "Epoch 17: 9479 / 10000\n",
      "Epoch 18: 9489 / 10000\n",
      "Epoch 19: 9500 / 10000\n",
      "Epoch 20: 9495 / 10000\n",
      "Epoch 21: 9472 / 10000\n",
      "Epoch 22: 9490 / 10000\n",
      "Epoch 23: 9483 / 10000\n",
      "Epoch 24: 9488 / 10000\n",
      "Epoch 25: 9478 / 10000\n",
      "Epoch 26: 9465 / 10000\n",
      "Epoch 27: 9476 / 10000\n",
      "Epoch 28: 9496 / 10000\n",
      "Epoch 29: 9457 / 10000\n",
      "Epoch 30: 9499 / 10000\n"
     ]
    }
   ],
   "source": [
    "network = NielsenML.Network(784, 30, 10);\n",
    "NielsenML.sgd!(network, traindata; epochs=30, mini_batch_size=10, η=3.0, test_data=testsdata)"
   ]
  },
  {
   "cell_type": "code",
   "execution_count": 6,
   "metadata": {},
   "outputs": [
    {
     "name": "stdout",
     "output_type": "stream",
     "text": [
      "Epoch 1: 6663 / 10000\n",
      "Epoch 2: 6776 / 10000\n",
      "Epoch 3: 6790 / 10000\n",
      "Epoch 4: 6853 / 10000\n",
      "Epoch 5: 6847 / 10000\n",
      "Epoch 6: 6869 / 10000\n",
      "Epoch 7: 6916 / 10000\n",
      "Epoch 8: 6932 / 10000\n",
      "Epoch 9: 6927 / 10000\n",
      "Epoch 10: 6940 / 10000\n",
      "Epoch 11: 6938 / 10000\n",
      "Epoch 12: 6973 / 10000\n",
      "Epoch 13: 6980 / 10000\n",
      "Epoch 14: 6976 / 10000\n",
      "Epoch 15: 6987 / 10000\n",
      "Epoch 16: 7002 / 10000\n",
      "Epoch 17: 7036 / 10000\n",
      "Epoch 18: 7021 / 10000\n",
      "Epoch 19: 7034 / 10000\n",
      "Epoch 20: 7068 / 10000\n",
      "Epoch 21: 7763 / 10000\n",
      "Epoch 22: 7770 / 10000\n",
      "Epoch 23: 7765 / 10000\n",
      "Epoch 24: 7780 / 10000\n",
      "Epoch 25: 7776 / 10000\n",
      "Epoch 26: 7788 / 10000\n",
      "Epoch 27: 7791 / 10000\n",
      "Epoch 28: 7803 / 10000\n",
      "Epoch 29: 7800 / 10000\n",
      "Epoch 30: 7801 / 10000\n"
     ]
    }
   ],
   "source": [
    "network2 = NielsenML.Network(784, 100, 10);\n",
    "NielsenML.sgd!(network2, traindata; epochs=30, mini_batch_size=10, η=3.0, test_data=testsdata)"
   ]
  }
 ],
 "metadata": {
  "kernelspec": {
   "display_name": "Julia 1.0.3",
   "language": "julia",
   "name": "julia-1.0"
  },
  "language_info": {
   "file_extension": ".jl",
   "mimetype": "application/julia",
   "name": "julia",
   "version": "1.0.3"
  }
 },
 "nbformat": 4,
 "nbformat_minor": 2
}
